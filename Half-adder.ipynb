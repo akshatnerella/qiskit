{
 "cells": [
  {
   "cell_type": "code",
   "execution_count": 18,
   "id": "f6085905-74f9-491f-be26-c418e29b5237",
   "metadata": {},
   "outputs": [
    {
     "name": "stderr",
     "output_type": "stream",
     "text": [
      "ibmqfactory.load_account:WARNING:2022-09-05 03:28:05,133: Credentials are already in use. The existing account in the session will be replaced.\n"
     ]
    }
   ],
   "source": [
    "import numpy as np\n",
    "\n",
    "# Importing standard Qiskit libraries\n",
    "from qiskit import QuantumCircuit, transpile, Aer, IBMQ\n",
    "from qiskit.tools.jupyter import *\n",
    "from qiskit.visualization import *\n",
    "from ibm_quantum_widgets import *\n",
    "from qiskit.providers.aer import QasmSimulator\n",
    "\n",
    "# Loading your IBM Quantum account(s)\n",
    "provider = IBMQ.load_account()"
   ]
  },
  {
   "cell_type": "code",
   "execution_count": 19,
   "id": "88a4d364-2503-4305-8c39-b29b49f3b12f",
   "metadata": {},
   "outputs": [
    {
     "data": {
      "image/png": "[encoded data removed]",
      "text/plain": [
       "<Figure size 447.797x325.08 with 1 Axes>"
      ]
     },
     "execution_count": 19,
     "metadata": {},
     "output_type": "execute_result"
    }
   ],
   "source": [
    "test_qc = QuantumCircuit(4, 2)\n",
    "\n",
    "# First, our circuit should encode an input (here '11')\n",
    "test_qc.x(0)\n",
    "test_qc.x(1)\n",
    "\n",
    "# Next, it should carry out the adder circuit we created\n",
    "test_qc.cx(0,2)\n",
    "test_qc.cx(1,2)\n",
    "test_qc.ccx(0,1,3)\n",
    "\n",
    "# Finally, we will measure the bottom two qubits to extract the output\n",
    "test_qc.measure(2,0)\n",
    "test_qc.measure(3,1)\n",
    "test_qc.draw()\n"
   ]
  },
  {
   "cell_type": "code",
   "execution_count": 20,
   "id": "2ad59f17-1cc7-47d5-b854-dc171efe1682",
   "metadata": {},
   "outputs": [
    {
     "data": {
      "text/plain": [
       "{'10': 1024}"
      ]
     },
     "execution_count": 20,
     "metadata": {},
     "output_type": "execute_result"
    }
   ],
   "source": [
    "sim = QasmSimulator()\n",
    "job = sim.run(test_qc)  # run the experiment\n",
    "result = job.result()   # get the results\n",
    "result.get_counts()     # interpret the results as a “counts” dictionary"
   ]
  },
  {
   "cell_type": "code",
   "execution_count": null,
   "id": "0d6210af-8d27-4785-b384-0386db699765",
   "metadata": {},
   "outputs": [],
   "source": []
  },
  {
   "cell_type": "code",
   "execution_count": null,
   "id": "77e8b3c4-7498-4433-bd9c-153b4cc2153a",
   "metadata": {},
   "outputs": [],
   "source": []
  }
 ],
 "metadata": {
  "kernelspec": {
   "display_name": "Python 3 (ipykernel)",
   "language": "python",
   "name": "python3"
  },
  "language_info": {
   "codemirror_mode": {
    "name": "ipython",
    "version": 3
   },
   "file_extension": ".py",
   "mimetype": "text/x-python",
   "name": "python",
   "nbconvert_exporter": "python",
   "pygments_lexer": "ipython3",
   "version": "3.8.13"
  },
  "widgets": {
   "application/vnd.jupyter.widget-state+json": {
    "state": {
     "049714a0b2324be1aa20fcb676913709": {
      "model_module": "@jupyter-widgets/controls",
      "model_module_version": "1.5.0",
      "model_name": "HTMLModel",
      "state": {
       "layout": "IPY_MODEL_0504fe100523447fad50fb8cf55daad2",
       "style": "IPY_MODEL_1f9b2564ad5f4d77accd825ed41a74ac",
       "value": "<h5>Message</h5>"
      }
     },
     "0504fe100523447fad50fb8cf55daad2": {
      "model_module": "@jupyter-widgets/base",
      "model_module_version": "1.2.0",
      "model_name": "LayoutModel",
      "state": {}
     },
     "14b0cb0aab164046baa69f772bae1fa7": {
      "model_module": "@jupyter-widgets/controls",
      "model_module_version": "1.5.0",
      "model_name": "DescriptionStyleModel",
      "state": {
       "description_width": ""
      }
     },
     "169f4ba49b314693bb4486149eec7497": {
      "model_module": "@jupyter-widgets/controls",
      "model_module_version": "1.5.0",
      "model_name": "DescriptionStyleModel",
      "state": {
       "description_width": ""
      }
     },
     "1e53290d1ffe41b29dbbdf28c7ee0e44": {
      "model_module": "@jupyter-widgets/controls",
      "model_module_version": "1.5.0",
      "model_name": "HBoxModel",
      "state": {
       "children": [
        "IPY_MODEL_b831c4cbb3d244bf86c4ea0d79187385",
        "IPY_MODEL_e4a01c59e8194707923922029ccc174d",
        "IPY_MODEL_ec008022c9ea4f49b265448addb95d91",
        "IPY_MODEL_2193b82b8da44334980521ca62e8f865",
        "IPY_MODEL_049714a0b2324be1aa20fcb676913709"
       ],
       "layout": "IPY_MODEL_8300fcaa44694ea0ab6a919739951bf2"
      }
     },
     "1f9b2564ad5f4d77accd825ed41a74ac": {
      "model_module": "@jupyter-widgets/controls",
      "model_module_version": "1.5.0",
      "model_name": "DescriptionStyleModel",
      "state": {
       "description_width": ""
      }
     },
     "2193b82b8da44334980521ca62e8f865": {
      "model_module": "@jupyter-widgets/controls",
      "model_module_version": "1.5.0",
      "model_name": "HTMLModel",
      "state": {
       "layout": "IPY_MODEL_9f679ee85c3047c7b81dffa1cf985dc0",
       "style": "IPY_MODEL_169f4ba49b314693bb4486149eec7497",
       "value": "<h5>Queue</h5>"
      }
     },
     "2c746703c9c7461188d8da76fec1650b": {
      "model_module": "@jupyter-widgets/controls",
      "model_module_version": "1.5.0",
      "model_name": "HTMLModel",
      "state": {
       "layout": "IPY_MODEL_cb5dee15890c4b31acebe9eb97d1a9cc",
       "style": "IPY_MODEL_f62963c87f474febb90791552db03b47",
       "value": "<p style='font-family: IBM Plex Sans, Arial, Helvetica, sans-serif; font-size: 20px; font-weight: medium;'>Circuit Properties</p>"
      }
     },
     "2fd167e40fa84c59a0363421826210ae": {
      "model_module": "@jupyter-widgets/base",
      "model_module_version": "1.2.0",
      "model_name": "LayoutModel",
      "state": {
       "width": "95px"
      }
     },
     "60d489c42de347d59790c934fa78543c": {
      "model_module": "@jupyter-widgets/controls",
      "model_module_version": "1.5.0",
      "model_name": "DescriptionStyleModel",
      "state": {
       "description_width": ""
      }
     },
     "62ec03fd330f4c0c85494cb99c719b8f": {
      "model_module": "@jupyter-widgets/controls",
      "model_module_version": "1.5.0",
      "model_name": "DescriptionStyleModel",
      "state": {
       "description_width": ""
      }
     },
     "6829665fbf53460b85b6a7df9d426250": {
      "model_module": "@jupyter-widgets/base",
      "model_module_version": "1.2.0",
      "model_name": "LayoutModel",
      "state": {
       "grid_template_areas": "\n                                       \". . . . right \"\n                                        ",
       "grid_template_columns": "20% 20% 20% 20% 20%",
       "width": "100%"
      }
     },
     "8300fcaa44694ea0ab6a919739951bf2": {
      "model_module": "@jupyter-widgets/base",
      "model_module_version": "1.2.0",
      "model_name": "LayoutModel",
      "state": {
       "margin": "0px 0px 0px 37px",
       "width": "600px"
      }
     },
     "9475d4f23ef9430eb7c028199b4c7ed7": {
      "model_module": "@jupyter-widgets/base",
      "model_module_version": "1.2.0",
      "model_name": "LayoutModel",
      "state": {
       "width": "145px"
      }
     },
     "9f679ee85c3047c7b81dffa1cf985dc0": {
      "model_module": "@jupyter-widgets/base",
      "model_module_version": "1.2.0",
      "model_name": "LayoutModel",
      "state": {
       "width": "70px"
      }
     },
     "a82f1f8987cd45f58077aae7312076bc": {
      "model_module": "@jupyter-widgets/base",
      "model_module_version": "1.2.0",
      "model_name": "LayoutModel",
      "state": {
       "width": "190px"
      }
     },
     "b156a92a7504400f914d25dddf9d5f68": {
      "model_module": "@jupyter-widgets/base",
      "model_module_version": "1.2.0",
      "model_name": "LayoutModel",
      "state": {
       "grid_area": "right",
       "padding": "0px 0px 0px 0px",
       "width": "70px"
      }
     },
     "b831c4cbb3d244bf86c4ea0d79187385": {
      "model_module": "@jupyter-widgets/controls",
      "model_module_version": "1.5.0",
      "model_name": "HTMLModel",
      "state": {
       "layout": "IPY_MODEL_a82f1f8987cd45f58077aae7312076bc",
       "style": "IPY_MODEL_14b0cb0aab164046baa69f772bae1fa7",
       "value": "<h5>Job ID</h5>"
      }
     },
     "cb5dee15890c4b31acebe9eb97d1a9cc": {
      "model_module": "@jupyter-widgets/base",
      "model_module_version": "1.2.0",
      "model_name": "LayoutModel",
      "state": {
       "margin": "0px 0px 10px 0px"
      }
     },
     "d61b41bf46cb4a48ac6d1875e64ebb2c": {
      "model_module": "@jupyter-widgets/controls",
      "model_module_version": "1.5.0",
      "model_name": "ButtonStyleModel",
      "state": {}
     },
     "e1e2517b04f54adf9a707425706a834f": {
      "model_module": "@jupyter-widgets/controls",
      "model_module_version": "1.5.0",
      "model_name": "GridBoxModel",
      "state": {
       "children": [
        "IPY_MODEL_eaa842617a9e4feaab78a1e492975b69"
       ],
       "layout": "IPY_MODEL_6829665fbf53460b85b6a7df9d426250"
      }
     },
     "e4a01c59e8194707923922029ccc174d": {
      "model_module": "@jupyter-widgets/controls",
      "model_module_version": "1.5.0",
      "model_name": "HTMLModel",
      "state": {
       "layout": "IPY_MODEL_9475d4f23ef9430eb7c028199b4c7ed7",
       "style": "IPY_MODEL_62ec03fd330f4c0c85494cb99c719b8f",
       "value": "<h5>Backend</h5>"
      }
     },
     "eaa842617a9e4feaab78a1e492975b69": {
      "model_module": "@jupyter-widgets/controls",
      "model_module_version": "1.5.0",
      "model_name": "ButtonModel",
      "state": {
       "button_style": "primary",
       "description": "Clear",
       "layout": "IPY_MODEL_b156a92a7504400f914d25dddf9d5f68",
       "style": "IPY_MODEL_d61b41bf46cb4a48ac6d1875e64ebb2c"
      }
     },
     "ec008022c9ea4f49b265448addb95d91": {
      "model_module": "@jupyter-widgets/controls",
      "model_module_version": "1.5.0",
      "model_name": "HTMLModel",
      "state": {
       "layout": "IPY_MODEL_2fd167e40fa84c59a0363421826210ae",
       "style": "IPY_MODEL_60d489c42de347d59790c934fa78543c",
       "value": "<h5>Status</h5>"
      }
     },
     "f62963c87f474febb90791552db03b47": {
      "model_module": "@jupyter-widgets/controls",
      "model_module_version": "1.5.0",
      "model_name": "DescriptionStyleModel",
      "state": {
       "description_width": ""
      }
     }
    },
    "version_major": 2,
    "version_minor": 0
   }
  }
 },
 "nbformat": 4,
 "nbformat_minor": 5
}
